{
 "cells": [
  {
   "cell_type": "markdown",
   "metadata": {
    "id": "fwKWzkX4sUzG"
   },
   "source": [
    "# kNN and Performance Measures\n"
   ]
  },
  {
   "cell_type": "markdown",
   "metadata": {
    "id": "2oX9rJjEPP_S"
   },
   "source": [
    "### kNN Recap\n",
    "\n",
    "In the K-Nearest Neighbors algorithm, in order to classify a point, we measure the distance (e.g. Euclidean distance) to the nearest k instances of the training set, and let them vote. K is typically chosen to be an odd number.\n",
    "\n",
    "![KNN](https://miro.medium.com/max/1300/0*Sk18h9op6uK9EpT8.)\n"
   ]
  },
  {
   "cell_type": "markdown",
   "metadata": {
    "id": "HvO_eR7nqI0j"
   },
   "source": [
    "### Example\n",
    "We illustrate kNN with a simple synthetic data set."
   ]
  },
  {
   "cell_type": "code",
   "execution_count": 1,
   "metadata": {
    "id": "fJ2nghivqQw3"
   },
   "outputs": [],
   "source": [
    "# Import\n",
    "import pandas as pd\n",
    "import matplotlib.pyplot as plt\n",
    "import seaborn as sns\n",
    "import numpy as np\n",
    "\n",
    "# Customize plots\n",
    "%matplotlib inline\n",
    "sns.set_theme(style=\"white\")\n",
    "plt.style.use('grayscale')"
   ]
  },
  {
   "cell_type": "markdown",
   "metadata": {
    "id": "H_irgNanWGoL"
   },
   "source": [
    "The code below generates 16 points in the plane [0,1]. Points with low values of x1 and x2 are associated with class 0 and points with high values of x1 and x2 are associated with class 1."
   ]
  },
  {
   "cell_type": "code",
   "execution_count": 2,
   "metadata": {
    "colab": {
     "base_uri": "https://localhost:8080/",
     "height": 551
    },
    "id": "OFaVbSpZqHVc",
    "outputId": "98014cf5-9f10-482a-c557-1aad54ebd5a0"
   },
   "outputs": [
    {
     "data": {
      "text/html": [
       "\n",
       "  <div id=\"df-31520bb4-aa4a-4bbb-93ef-b810a1459e77\">\n",
       "    <div class=\"colab-df-container\">\n",
       "      <div>\n",
       "<style scoped>\n",
       "    .dataframe tbody tr th:only-of-type {\n",
       "        vertical-align: middle;\n",
       "    }\n",
       "\n",
       "    .dataframe tbody tr th {\n",
       "        vertical-align: top;\n",
       "    }\n",
       "\n",
       "    .dataframe thead th {\n",
       "        text-align: right;\n",
       "    }\n",
       "</style>\n",
       "<table border=\"1\" class=\"dataframe\">\n",
       "  <thead>\n",
       "    <tr style=\"text-align: right;\">\n",
       "      <th></th>\n",
       "      <th>x1</th>\n",
       "      <th>x2</th>\n",
       "      <th>y</th>\n",
       "    </tr>\n",
       "  </thead>\n",
       "  <tbody>\n",
       "    <tr>\n",
       "      <th>0</th>\n",
       "      <td>0.00</td>\n",
       "      <td>0.20</td>\n",
       "      <td>0</td>\n",
       "    </tr>\n",
       "    <tr>\n",
       "      <th>1</th>\n",
       "      <td>0.40</td>\n",
       "      <td>0.35</td>\n",
       "      <td>0</td>\n",
       "    </tr>\n",
       "    <tr>\n",
       "      <th>2</th>\n",
       "      <td>0.15</td>\n",
       "      <td>0.00</td>\n",
       "      <td>0</td>\n",
       "    </tr>\n",
       "    <tr>\n",
       "      <th>3</th>\n",
       "      <td>0.05</td>\n",
       "      <td>0.10</td>\n",
       "      <td>0</td>\n",
       "    </tr>\n",
       "    <tr>\n",
       "      <th>4</th>\n",
       "      <td>0.40</td>\n",
       "      <td>0.40</td>\n",
       "      <td>0</td>\n",
       "    </tr>\n",
       "    <tr>\n",
       "      <th>5</th>\n",
       "      <td>0.20</td>\n",
       "      <td>0.25</td>\n",
       "      <td>0</td>\n",
       "    </tr>\n",
       "    <tr>\n",
       "      <th>6</th>\n",
       "      <td>0.00</td>\n",
       "      <td>0.40</td>\n",
       "      <td>0</td>\n",
       "    </tr>\n",
       "    <tr>\n",
       "      <th>7</th>\n",
       "      <td>0.45</td>\n",
       "      <td>0.35</td>\n",
       "      <td>0</td>\n",
       "    </tr>\n",
       "    <tr>\n",
       "      <th>8</th>\n",
       "      <td>1.00</td>\n",
       "      <td>0.85</td>\n",
       "      <td>1</td>\n",
       "    </tr>\n",
       "    <tr>\n",
       "      <th>9</th>\n",
       "      <td>0.85</td>\n",
       "      <td>0.95</td>\n",
       "      <td>1</td>\n",
       "    </tr>\n",
       "    <tr>\n",
       "      <th>10</th>\n",
       "      <td>0.90</td>\n",
       "      <td>1.00</td>\n",
       "      <td>1</td>\n",
       "    </tr>\n",
       "    <tr>\n",
       "      <th>11</th>\n",
       "      <td>0.70</td>\n",
       "      <td>0.65</td>\n",
       "      <td>1</td>\n",
       "    </tr>\n",
       "    <tr>\n",
       "      <th>12</th>\n",
       "      <td>0.65</td>\n",
       "      <td>0.75</td>\n",
       "      <td>1</td>\n",
       "    </tr>\n",
       "    <tr>\n",
       "      <th>13</th>\n",
       "      <td>0.95</td>\n",
       "      <td>0.90</td>\n",
       "      <td>1</td>\n",
       "    </tr>\n",
       "    <tr>\n",
       "      <th>14</th>\n",
       "      <td>1.00</td>\n",
       "      <td>0.90</td>\n",
       "      <td>1</td>\n",
       "    </tr>\n",
       "    <tr>\n",
       "      <th>15</th>\n",
       "      <td>0.80</td>\n",
       "      <td>0.95</td>\n",
       "      <td>1</td>\n",
       "    </tr>\n",
       "  </tbody>\n",
       "</table>\n",
       "</div>\n",
       "      <button class=\"colab-df-convert\" onclick=\"convertToInteractive('df-31520bb4-aa4a-4bbb-93ef-b810a1459e77')\"\n",
       "              title=\"Convert this dataframe to an interactive table.\"\n",
       "              style=\"display:none;\">\n",
       "        \n",
       "  <svg xmlns=\"http://www.w3.org/2000/svg\" height=\"24px\"viewBox=\"0 0 24 24\"\n",
       "       width=\"24px\">\n",
       "    <path d=\"M0 0h24v24H0V0z\" fill=\"none\"/>\n",
       "    <path d=\"M18.56 5.44l.94 2.06.94-2.06 2.06-.94-2.06-.94-.94-2.06-.94 2.06-2.06.94zm-11 1L8.5 8.5l.94-2.06 2.06-.94-2.06-.94L8.5 2.5l-.94 2.06-2.06.94zm10 10l.94 2.06.94-2.06 2.06-.94-2.06-.94-.94-2.06-.94 2.06-2.06.94z\"/><path d=\"M17.41 7.96l-1.37-1.37c-.4-.4-.92-.59-1.43-.59-.52 0-1.04.2-1.43.59L10.3 9.45l-7.72 7.72c-.78.78-.78 2.05 0 2.83L4 21.41c.39.39.9.59 1.41.59.51 0 1.02-.2 1.41-.59l7.78-7.78 2.81-2.81c.8-.78.8-2.07 0-2.86zM5.41 20L4 18.59l7.72-7.72 1.47 1.35L5.41 20z\"/>\n",
       "  </svg>\n",
       "      </button>\n",
       "      \n",
       "  <style>\n",
       "    .colab-df-container {\n",
       "      display:flex;\n",
       "      flex-wrap:wrap;\n",
       "      gap: 12px;\n",
       "    }\n",
       "\n",
       "    .colab-df-convert {\n",
       "      background-color: #E8F0FE;\n",
       "      border: none;\n",
       "      border-radius: 50%;\n",
       "      cursor: pointer;\n",
       "      display: none;\n",
       "      fill: #1967D2;\n",
       "      height: 32px;\n",
       "      padding: 0 0 0 0;\n",
       "      width: 32px;\n",
       "    }\n",
       "\n",
       "    .colab-df-convert:hover {\n",
       "      background-color: #E2EBFA;\n",
       "      box-shadow: 0px 1px 2px rgba(60, 64, 67, 0.3), 0px 1px 3px 1px rgba(60, 64, 67, 0.15);\n",
       "      fill: #174EA6;\n",
       "    }\n",
       "\n",
       "    [theme=dark] .colab-df-convert {\n",
       "      background-color: #3B4455;\n",
       "      fill: #D2E3FC;\n",
       "    }\n",
       "\n",
       "    [theme=dark] .colab-df-convert:hover {\n",
       "      background-color: #434B5C;\n",
       "      box-shadow: 0px 1px 3px 1px rgba(0, 0, 0, 0.15);\n",
       "      filter: drop-shadow(0px 1px 2px rgba(0, 0, 0, 0.3));\n",
       "      fill: #FFFFFF;\n",
       "    }\n",
       "  </style>\n",
       "\n",
       "      <script>\n",
       "        const buttonEl =\n",
       "          document.querySelector('#df-31520bb4-aa4a-4bbb-93ef-b810a1459e77 button.colab-df-convert');\n",
       "        buttonEl.style.display =\n",
       "          google.colab.kernel.accessAllowed ? 'block' : 'none';\n",
       "\n",
       "        async function convertToInteractive(key) {\n",
       "          const element = document.querySelector('#df-31520bb4-aa4a-4bbb-93ef-b810a1459e77');\n",
       "          const dataTable =\n",
       "            await google.colab.kernel.invokeFunction('convertToInteractive',\n",
       "                                                     [key], {});\n",
       "          if (!dataTable) return;\n",
       "\n",
       "          const docLinkHtml = 'Like what you see? Visit the ' +\n",
       "            '<a target=\"_blank\" href=https://colab.research.google.com/notebooks/data_table.ipynb>data table notebook</a>'\n",
       "            + ' to learn more about interactive tables.';\n",
       "          element.innerHTML = '';\n",
       "          dataTable['output_type'] = 'display_data';\n",
       "          await google.colab.output.renderOutput(dataTable, element);\n",
       "          const docLink = document.createElement('div');\n",
       "          docLink.innerHTML = docLinkHtml;\n",
       "          element.appendChild(docLink);\n",
       "        }\n",
       "      </script>\n",
       "    </div>\n",
       "  </div>\n",
       "  "
      ],
      "text/plain": [
       "      x1    x2  y\n",
       "0   0.00  0.20  0\n",
       "1   0.40  0.35  0\n",
       "2   0.15  0.00  0\n",
       "3   0.05  0.10  0\n",
       "4   0.40  0.40  0\n",
       "5   0.20  0.25  0\n",
       "6   0.00  0.40  0\n",
       "7   0.45  0.35  0\n",
       "8   1.00  0.85  1\n",
       "9   0.85  0.95  1\n",
       "10  0.90  1.00  1\n",
       "11  0.70  0.65  1\n",
       "12  0.65  0.75  1\n",
       "13  0.95  0.90  1\n",
       "14  1.00  0.90  1\n",
       "15  0.80  0.95  1"
      ]
     },
     "execution_count": 2,
     "metadata": {},
     "output_type": "execute_result"
    }
   ],
   "source": [
    "# Create Data\n",
    "data = {\"x1\":[0, 0.4, 0.15, 0.05, 0.4, 0.20, 0, 0.45, 1, 0.85, 0.9, 0.7, 0.65, 0.95, 1, 0.8],\n",
    "\"x2\":[0.2, 0.35, 0, 0.10, 0.4, 0.25, 0.40, 0.35, 0.85, 0.95, 1, 0.65, 0.75, 0.9, 0.9, 0.95],\n",
    "\"y\":[0, 0, 0, 0, 0, 0, 0, 0, 1, 1, 1, 1, 1, 1, 1, 1]}\n",
    "\n",
    "data = pd.DataFrame(data)\n",
    "data"
   ]
  },
  {
   "cell_type": "markdown",
   "metadata": {
    "id": "at3Q8Tvuqhbb"
   },
   "source": [
    "We also have 3 new points for which we do not know the class.\n",
    "\n",
    "We want to build a model to find out to which class (0 or 1) these 3 point belong to."
   ]
  },
  {
   "cell_type": "code",
   "execution_count": 3,
   "metadata": {
    "colab": {
     "base_uri": "https://localhost:8080/",
     "height": 143
    },
    "id": "OPzW2PLUw7PE",
    "outputId": "97cab539-4df0-4be2-af6b-03f993bb7eaf"
   },
   "outputs": [
    {
     "data": {
      "text/html": [
       "\n",
       "  <div id=\"df-4ea361e8-7c5b-4329-8f99-a4a0e7ace8a9\">\n",
       "    <div class=\"colab-df-container\">\n",
       "      <div>\n",
       "<style scoped>\n",
       "    .dataframe tbody tr th:only-of-type {\n",
       "        vertical-align: middle;\n",
       "    }\n",
       "\n",
       "    .dataframe tbody tr th {\n",
       "        vertical-align: top;\n",
       "    }\n",
       "\n",
       "    .dataframe thead th {\n",
       "        text-align: right;\n",
       "    }\n",
       "</style>\n",
       "<table border=\"1\" class=\"dataframe\">\n",
       "  <thead>\n",
       "    <tr style=\"text-align: right;\">\n",
       "      <th></th>\n",
       "      <th>name</th>\n",
       "      <th>x1</th>\n",
       "      <th>x2</th>\n",
       "    </tr>\n",
       "  </thead>\n",
       "  <tbody>\n",
       "    <tr>\n",
       "      <th>0</th>\n",
       "      <td>p1</td>\n",
       "      <td>0.15</td>\n",
       "      <td>0.35</td>\n",
       "    </tr>\n",
       "    <tr>\n",
       "      <th>1</th>\n",
       "      <td>p2</td>\n",
       "      <td>0.75</td>\n",
       "      <td>0.80</td>\n",
       "    </tr>\n",
       "    <tr>\n",
       "      <th>2</th>\n",
       "      <td>p3</td>\n",
       "      <td>0.50</td>\n",
       "      <td>0.60</td>\n",
       "    </tr>\n",
       "  </tbody>\n",
       "</table>\n",
       "</div>\n",
       "      <button class=\"colab-df-convert\" onclick=\"convertToInteractive('df-4ea361e8-7c5b-4329-8f99-a4a0e7ace8a9')\"\n",
       "              title=\"Convert this dataframe to an interactive table.\"\n",
       "              style=\"display:none;\">\n",
       "        \n",
       "  <svg xmlns=\"http://www.w3.org/2000/svg\" height=\"24px\"viewBox=\"0 0 24 24\"\n",
       "       width=\"24px\">\n",
       "    <path d=\"M0 0h24v24H0V0z\" fill=\"none\"/>\n",
       "    <path d=\"M18.56 5.44l.94 2.06.94-2.06 2.06-.94-2.06-.94-.94-2.06-.94 2.06-2.06.94zm-11 1L8.5 8.5l.94-2.06 2.06-.94-2.06-.94L8.5 2.5l-.94 2.06-2.06.94zm10 10l.94 2.06.94-2.06 2.06-.94-2.06-.94-.94-2.06-.94 2.06-2.06.94z\"/><path d=\"M17.41 7.96l-1.37-1.37c-.4-.4-.92-.59-1.43-.59-.52 0-1.04.2-1.43.59L10.3 9.45l-7.72 7.72c-.78.78-.78 2.05 0 2.83L4 21.41c.39.39.9.59 1.41.59.51 0 1.02-.2 1.41-.59l7.78-7.78 2.81-2.81c.8-.78.8-2.07 0-2.86zM5.41 20L4 18.59l7.72-7.72 1.47 1.35L5.41 20z\"/>\n",
       "  </svg>\n",
       "      </button>\n",
       "      \n",
       "  <style>\n",
       "    .colab-df-container {\n",
       "      display:flex;\n",
       "      flex-wrap:wrap;\n",
       "      gap: 12px;\n",
       "    }\n",
       "\n",
       "    .colab-df-convert {\n",
       "      background-color: #E8F0FE;\n",
       "      border: none;\n",
       "      border-radius: 50%;\n",
       "      cursor: pointer;\n",
       "      display: none;\n",
       "      fill: #1967D2;\n",
       "      height: 32px;\n",
       "      padding: 0 0 0 0;\n",
       "      width: 32px;\n",
       "    }\n",
       "\n",
       "    .colab-df-convert:hover {\n",
       "      background-color: #E2EBFA;\n",
       "      box-shadow: 0px 1px 2px rgba(60, 64, 67, 0.3), 0px 1px 3px 1px rgba(60, 64, 67, 0.15);\n",
       "      fill: #174EA6;\n",
       "    }\n",
       "\n",
       "    [theme=dark] .colab-df-convert {\n",
       "      background-color: #3B4455;\n",
       "      fill: #D2E3FC;\n",
       "    }\n",
       "\n",
       "    [theme=dark] .colab-df-convert:hover {\n",
       "      background-color: #434B5C;\n",
       "      box-shadow: 0px 1px 3px 1px rgba(0, 0, 0, 0.15);\n",
       "      filter: drop-shadow(0px 1px 2px rgba(0, 0, 0, 0.3));\n",
       "      fill: #FFFFFF;\n",
       "    }\n",
       "  </style>\n",
       "\n",
       "      <script>\n",
       "        const buttonEl =\n",
       "          document.querySelector('#df-4ea361e8-7c5b-4329-8f99-a4a0e7ace8a9 button.colab-df-convert');\n",
       "        buttonEl.style.display =\n",
       "          google.colab.kernel.accessAllowed ? 'block' : 'none';\n",
       "\n",
       "        async function convertToInteractive(key) {\n",
       "          const element = document.querySelector('#df-4ea361e8-7c5b-4329-8f99-a4a0e7ace8a9');\n",
       "          const dataTable =\n",
       "            await google.colab.kernel.invokeFunction('convertToInteractive',\n",
       "                                                     [key], {});\n",
       "          if (!dataTable) return;\n",
       "\n",
       "          const docLinkHtml = 'Like what you see? Visit the ' +\n",
       "            '<a target=\"_blank\" href=https://colab.research.google.com/notebooks/data_table.ipynb>data table notebook</a>'\n",
       "            + ' to learn more about interactive tables.';\n",
       "          element.innerHTML = '';\n",
       "          dataTable['output_type'] = 'display_data';\n",
       "          await google.colab.output.renderOutput(dataTable, element);\n",
       "          const docLink = document.createElement('div');\n",
       "          docLink.innerHTML = docLinkHtml;\n",
       "          element.appendChild(docLink);\n",
       "        }\n",
       "      </script>\n",
       "    </div>\n",
       "  </div>\n",
       "  "
      ],
      "text/plain": [
       "  name    x1    x2\n",
       "0   p1  0.15  0.35\n",
       "1   p2  0.75  0.80\n",
       "2   p3  0.50  0.60"
      ]
     },
     "execution_count": 3,
     "metadata": {},
     "output_type": "execute_result"
    }
   ],
   "source": [
    "# New points\n",
    "p = pd.DataFrame({\"name\":[\"p1\", \"p2\", \"p3\"], \"x1\":[0.15, 0.75, 0.5],\n",
    "\"x2\":[0.35, 0.8, 0.6]})\n",
    "p"
   ]
  },
  {
   "cell_type": "markdown",
   "metadata": {
    "id": "v0YmLeFElLsh"
   },
   "source": [
    "First we plot our dataset with the x1 values on the horizontal axis and the x2 values on the vertical axes. We color points according to the y target variable, which only takes values 0 (red) and 1 (blue).\n",
    "\n",
    "The new points are marked by an orange x marker."
   ]
  },
  {
   "cell_type": "code",
   "execution_count": 4,
   "metadata": {
    "colab": {
     "base_uri": "https://localhost:8080/",
     "height": 313
    },
    "id": "C2GaCblLu0FH",
    "outputId": "51c51246-ee2e-4f4b-cc5a-0c08ee0bb4cb"
   },
   "outputs": [
    {
     "data": {
      "image/png": "[encoded data removed]",
      "text/plain": [
       "<Figure size 504x360 with 2 Axes>"
      ]
     },
     "metadata": {},
     "output_type": "display_data"
    }
   ],
   "source": [
    "# Plot\n",
    "data.plot.scatter(\"x1\", \"x2\", c=\"y\", colormap=\"coolwarm_r\", figsize=(7, 5))\n",
    "plt.scatter(p.x1, p.x2, c=\"orange\", marker=\"x\")\n",
    "for point in p.values:\n",
    "  plt.text(point[1]+0.01, point[2], point[0])"
   ]
  },
  {
   "cell_type": "markdown",
   "metadata": {
    "id": "xJuADOPoq2LI"
   },
   "source": [
    "The two classes can be identified on the above scatter plot. In addition, p1 seems to belong to class 0, p2 to class 1. The class assignment for p3 is not so clear. \n",
    "\n",
    "Below we classify the new points using the kNN algorithm with different k (i.e. the number of neighboors we consider for the class voting when assigning a class). "
   ]
  },
  {
   "cell_type": "code",
   "execution_count": 5,
   "metadata": {
    "id": "pfFnVdKwmD0-"
   },
   "outputs": [],
   "source": [
    "# Select X and y\n",
    "X = data[[\"x1\", \"x2\"]]\n",
    "y = data[\"y\"]"
   ]
  },
  {
   "cell_type": "markdown",
   "metadata": {
    "id": "uyeNi09LosoB"
   },
   "source": [
    "First build a simple model using the sklearn `KNeighborsClassifier`."
   ]
  },
  {
   "cell_type": "code",
   "execution_count": 6,
   "metadata": {
    "colab": {
     "base_uri": "https://localhost:8080/"
    },
    "id": "3zLc0_MhmkFj",
    "outputId": "965976cb-65c2-45aa-d2c6-f220deb1e54a"
   },
   "outputs": [
    {
     "data": {
      "text/plain": [
       "array([0, 0, 0, 0, 0, 0, 0, 0, 1, 1, 1, 1, 1, 1, 1, 1])"
      ]
     },
     "execution_count": 6,
     "metadata": {},
     "output_type": "execute_result"
    }
   ],
   "source": [
    "from sklearn.neighbors import KNeighborsClassifier\n",
    "knn = KNeighborsClassifier()\n",
    "knn.fit(X, y)\n",
    "y_pred = knn.predict(X)\n",
    "y_pred"
   ]
  },
  {
   "cell_type": "markdown",
   "metadata": {
    "id": "hVshJ6Zuo26r"
   },
   "source": [
    "Let's have a look at what parameters it used by default. We can check their meaning by looking the the [documentation](https://scikit-learn.org/stable/modules/generated/sklearn.neighbors.KNeighborsClassifier.html).\n",
    "\n",
    "* How many neighbors? `n_neighbors` this is the number of neighbors to use. The default is 5.  \n",
    "* What similarity/distance measure to use? `p` set p=2  to use the Euclidean distance (L2) and p = 1 to use the Manhattan distance (l1)\n",
    "* What weight to give to the different neighbors? `weights` use uniform if all points should be given equal weight, use distance if you want to weigh neighbors by the inverse of their distance."
   ]
  },
  {
   "cell_type": "code",
   "execution_count": 7,
   "metadata": {
    "colab": {
     "base_uri": "https://localhost:8080/"
    },
    "id": "b8rc0pAZnnWY",
    "outputId": "0bb78fea-62cf-48fb-b48b-c3f00a086901"
   },
   "outputs": [
    {
     "data": {
      "text/plain": [
       "KNeighborsClassifier()"
      ]
     },
     "execution_count": 7,
     "metadata": {},
     "output_type": "execute_result"
    }
   ],
   "source": [
    "knn"
   ]
  },
  {
   "cell_type": "markdown",
   "metadata": {
    "id": "oM9NSaRpr4XA"
   },
   "source": [
    "But let's now see what class kNN would predict for our 3 points with unknown labels for different values of k."
   ]
  },
  {
   "cell_type": "code",
   "execution_count": 8,
   "metadata": {
    "colab": {
     "base_uri": "https://localhost:8080/",
     "height": 338
    },
    "id": "_Ly5UMD_x8Rb",
    "outputId": "1307f2b6-410d-4178-a8ea-45be6c0f182c"
   },
   "outputs": [
    {
     "data": {
      "image/png": "[encoded data removed]",
      "text/plain": [
       "<Figure size 1296x360 with 3 Axes>"
      ]
     },
     "metadata": {},
     "output_type": "display_data"
    }
   ],
   "source": [
    "# KNN plot\n",
    "fig, ax = plt.subplots(1, 3, figsize=(18,5))\n",
    "i = 0\n",
    "for k in [1, 3, 5]:\n",
    "  model = KNeighborsClassifier(n_neighbors=k).fit(X,y)\n",
    "  pred = model.predict(p[[\"x1\", \"x2\"]])\n",
    "  ax[i].scatter(data.x1, data.x2, c=data.y, cmap=\"coolwarm_r\")\n",
    "  ax[i].scatter(p.x1, p.x2, c=pred, cmap=\"coolwarm_r\", marker=\"x\")\n",
    "  ax[i].set_title(\"KNN with k = \" + str(k))\n",
    "  i += 1"
   ]
  },
  {
   "cell_type": "markdown",
   "metadata": {
    "id": "0jB0jxPytQPj"
   },
   "source": [
    "For k = 1 and k = 3, p3 belongs to class 0 while it belongs to class 1 for k = 5."
   ]
  },
  {
   "cell_type": "markdown",
   "metadata": {
    "id": "OScpbfpNV0FG"
   },
   "source": [
    "## Exercise: Diabetes Classification\n",
    "\n",
    "We will work on the diabetes dataset that contains patient attributes (e.g. age, glucose, ...) and information on whether the patient is diagnosed with diabetes (0 meaning \"no\", 1 meaning \"yes\"). The goal is to learn a model that predicts whether a (new) patient has diabetes given based on their individual characteristics (the set of patient attributes). This is a classification task and you can use the kNN classifier.\n",
    "\n",
    "#### 1. Model fitting and performance evaluation\n",
    "Split the data into testsize 20% and trainsize 80% and perform classification using a k-NN classifier with k = 5.\n",
    "Calculate accuracy, recall, precision and f1-score for your classifier and plot the confusion matrix \n",
    "to analyze the performance of the model."
   ]
  },
  {
   "cell_type": "code",
   "execution_count": 14,
   "metadata": {
    "colab": {
     "base_uri": "https://localhost:8080/",
     "height": 873
    },
    "id": "4soIYuNG-0eS",
    "outputId": "2e469b69-c305-4238-e4d3-9bdd67460407"
   },
   "outputs": [
    {
     "name": "stdout",
     "output_type": "stream",
     "text": [
      "<bound method DataFrame.info of      Pregnancies  Glucose  BloodPressure  SkinThickness  Insulin   BMI  \\\n",
      "0              6      148             72             35        0  33.6   \n",
      "1              1       85             66             29        0  26.6   \n",
      "2              8      183             64              0        0  23.3   \n",
      "3              1       89             66             23       94  28.1   \n",
      "4              0      137             40             35      168  43.1   \n",
      "..           ...      ...            ...            ...      ...   ...   \n",
      "763           10      101             76             48      180  32.9   \n",
      "764            2      122             70             27        0  36.8   \n",
      "765            5      121             72             23      112  26.2   \n",
      "766            1      126             60              0        0  30.1   \n",
      "767            1       93             70             31        0  30.4   \n",
      "\n",
      "     DiabetesPedigreeFunction  Age  Diabetes  \n",
      "0                       0.627   50         1  \n",
      "1                       0.351   31         0  \n",
      "2                       0.672   32         1  \n",
      "3                       0.167   21         0  \n",
      "4                       2.288   33         1  \n",
      "..                        ...  ...       ...  \n",
      "763                     0.171   63         0  \n",
      "764                     0.340   27         0  \n",
      "765                     0.245   30         0  \n",
      "766                     0.349   47         1  \n",
      "767                     0.315   23         0  \n",
      "\n",
      "[768 rows x 9 columns]>\n",
      "Performance measurements \n",
      " accuracy  :  0.734 \n",
      " recall    :  0.564 \n",
      " precision :  0.646 \n",
      " f1-score  :  0.602\n"
     ]
    },
    {
     "data": {
      "image/png": "[encoded data removed]",
      "text/plain": [
       "<Figure size 432x288 with 1 Axes>"
      ]
     },
     "metadata": {},
     "output_type": "display_data"
    }
   ],
   "source": [
    "# Import additional libraries\n",
    "# data splitting\n",
    "from sklearn.model_selection import train_test_split\n",
    "# performance measures\n",
    "from sklearn.metrics import roc_curve, roc_auc_score\n",
    "from sklearn.metrics import precision_recall_curve\n",
    "from sklearn.metrics import confusion_matrix,f1_score,precision_score,recall_score,accuracy_score,average_precision_score\n",
    "# classifier\n",
    "from sklearn.neighbors import KNeighborsClassifier\n",
    "# set a random seed\n",
    "np.random.seed(1)\n",
    "\n",
    "df = pd.read_csv('DiabetesDataset.csv')\n",
    "print(df.info)\n",
    "# keep the patient characteristics as inputs x and the diabetes as target y\n",
    "x = df.drop(columns=['Diabetes'])\n",
    "y = df['Diabetes'].values\n",
    "labels = [\"No Diabetes\", \"Diabetes\"]\n",
    "\n",
    "#### START YOUR SOLUTION HERE ####\n",
    "# Split data into training and test dataset\n",
    "trainX, testX, trainy, testy = train_test_split(x, y, test_size=0.2)\n",
    "\n",
    "# Fit kNN model with k=5 to the training data\n",
    "model =  KNeighborsClassifier(n_neighbors=5).fit(trainX, trainy)\n",
    "\n",
    "# # Get predictions on test set\n",
    "pred = model.predict(testX)\n",
    "\n",
    "# Compute the performance measures listed in the text above\n",
    "conf = confusion_matrix(testy, pred)\n",
    "acc = accuracy_score(testy, pred)\n",
    "rec = recall_score(testy, pred)\n",
    "prec = precision_score(testy, pred)\n",
    "f1 = f1_score(testy, pred)\n",
    "\n",
    "# Print the values of all performance measures except the confusion matrix \n",
    "print( \"Performance measurements\", \"\\n\",\n",
    "       \"accuracy  : \", round(acc,3),\"\\n\",\n",
    "       \"recall    : \", round(rec,3), \"\\n\",\n",
    "       \"precision : \", round(prec,3),\"\\n\",\n",
    "       \"f1-score  : \", round(f1,3))\n",
    "\n",
    "# Display confusion matrix using a heatmap\n",
    "sns.heatmap(conf, \n",
    "            annot=True, \n",
    "            fmt='d', \n",
    "            cbar=False, \n",
    "            cmap=\"coolwarm_r\", \n",
    "            xticklabels=labels, \n",
    "            yticklabels=labels, \n",
    "            linewidth = 1)\n",
    "plt.title(\"Confusion Matrix\")\n",
    "plt.xlabel('Predicted Label')\n",
    "plt.ylabel('True Label')\n",
    "plt.show()\n",
    "#### END YOUR SOLUTION HERE ####\n"
   ]
  },
  {
   "cell_type": "markdown",
   "metadata": {
    "id": "LloDVneY-0eT"
   },
   "source": [
    "#### 2. Performance Curves\n",
    "Compute the values necessary for plotting the area under the ROC and Precision-Recall curves and then plot and inspect the curves."
   ]
  },
  {
   "cell_type": "code",
   "execution_count": 11,
   "metadata": {
    "colab": {
     "base_uri": "https://localhost:8080/",
     "height": 621
    },
    "id": "L7WoCbGV-0eT",
    "outputId": "44de41dd-081c-4af9-9d98-85c214ae650b"
   },
   "outputs": [
    {
     "data": {
      "image/png": "[encoded data removed]",
      "text/plain": [
       "<Figure size 432x288 with 1 Axes>"
      ]
     },
     "metadata": {},
     "output_type": "display_data"
    },
    {
     "name": "stdout",
     "output_type": "stream",
     "text": [
      "AUC:  0.769\n"
     ]
    },
    {
     "data": {
      "image/png": "[encoded data removed]",
      "text/plain": [
       "<Figure size 432x288 with 1 Axes>"
      ]
     },
     "metadata": {},
     "output_type": "display_data"
    },
    {
     "name": "stdout",
     "output_type": "stream",
     "text": [
      "Average Precision:  0.657\n"
     ]
    }
   ],
   "source": [
    "# Predict probabilities for the test set\n",
    "probs = model.predict_proba(testX)\n",
    "\n",
    "# Keep the Probabilities of the positive class only\n",
    "probs = probs[:, 1]\n",
    "\n",
    "# Function for plotting the ROC curve\n",
    "def plot_roc_curve(fpr, tpr):\n",
    "    plt.plot(fpr, tpr, color='orange', label='ROC')\n",
    "    plt.plot([0, 1], [0, 1], color='darkblue', linestyle='--', label = 'random classifier')\n",
    "    plt.xlabel('False Positive Rate')\n",
    "    plt.ylabel('True Positive Rate')\n",
    "    plt.title('Receiver Operating Characteristic (ROC) Curve')\n",
    "    plt.legend()\n",
    "    plt.show()\n",
    "\n",
    "# Function for plotting the Precision-Recall curve\n",
    "def plot_rpc(recall, precision):\n",
    "    plt.plot(recall, precision, color='orange', label='RPC')\n",
    "    plt.ylabel('Precision')\n",
    "    plt.xlabel('Recall = True Positive Rate')\n",
    "    plt.title('Recall-Precision Curve')\n",
    "    plt.legend()\n",
    "    plt.show()\n",
    "\n",
    "\n",
    "#### START YOUR SOLUTION HERE ####\n",
    "# Plot ROC curve (check out the function roc_curve)\n",
    "fpr, tpr, thresholds = roc_curve(testy, probs)\n",
    "plot_roc_curve(fpr, tpr)\n",
    "\n",
    "# Compute the Area Under the ROC Curve (AUC) - the ROC AUC score\n",
    "auc = roc_auc_score(testy, probs)\n",
    "print(\"AUC: \" , round(auc, 3))\n",
    "\n",
    "# Plot Precision-Recall curve  \n",
    "precision, recall, _ = precision_recall_curve(testy, probs)\n",
    "plot_rpc(recall, precision)\n",
    "# Compute average precision - Precision-Recall AUC\n",
    "average_precision = average_precision_score(testy, probs)\n",
    "print(\"Average Precision: \", round(average_precision, 3))\n",
    "\n",
    "#### END YOUR SOLUTION HERE ####"
   ]
  },
  {
   "cell_type": "markdown",
   "metadata": {
    "id": "B7VuCkgf-0eT"
   },
   "source": [
    "#### 3. Assignment: Different Values of k\n",
    "Now fit two additional k-NN classifies to the same dataset with `k` values 1 and n (number of training samples), respectively. Compute the accuracies and plot the corresponding confusion matrix to analyze the prediction results for each model."
   ]
  },
  {
   "cell_type": "code",
   "execution_count": 13,
   "metadata": {
    "colab": {
     "base_uri": "https://localhost:8080/",
     "height": 585
    },
    "id": "vLV5cUtt-0eT",
    "outputId": "13d45c43-fd3d-4c62-e284-36406163a6d5"
   },
   "outputs": [
    {
     "data": {
      "image/png": "[encoded data removed]",
      "text/plain": [
       "<Figure size 432x288 with 1 Axes>"
      ]
     },
     "metadata": {},
     "output_type": "display_data"
    },
    {
     "data": {
      "image/png": "[encoded data removed]",
      "text/plain": [
       "<Figure size 432x288 with 1 Axes>"
      ]
     },
     "metadata": {},
     "output_type": "display_data"
    }
   ],
   "source": [
    "# Perform a k-NN on the given dataset and plot the confusion matrix\n",
    "# compute number of samples\n",
    "n = len(trainy)\n",
    "\n",
    "for k in [1, n]:\n",
    "    #### START YOUR SOLUTION HERE ####\n",
    "    # Fit a kNN classifier\n",
    "    knn = KNeighborsClassifier(n_neighbors=k)\n",
    "    knn.fit(trainX, trainy)\n",
    "    # Compute the predictions on the test data using the trained model\n",
    "    pred = knn.predict(testX)\n",
    "    # Compute accuracy\n",
    "    acc_score = accuracy_score(testy, pred)\n",
    "    # Compute the confusion matrix\n",
    "    conf = confusion_matrix(testy, pred)\n",
    "    # Plot the confusion matrix using a heatmap\n",
    "    sns.heatmap(conf, \n",
    "                annot=True, \n",
    "                fmt='d', \n",
    "                cbar=False, \n",
    "                cmap=\"coolwarm_r\", \n",
    "                xticklabels=labels, \n",
    "                yticklabels=labels, \n",
    "                linewidth=1)\n",
    "    plt.title('Accuracy score for k={} : {}'.format(k, round(acc_score, 3)))\n",
    "    plt.xlabel('Predicted Label')\n",
    "    plt.ylabel('True Label')\n",
    "    plt.show()\n",
    "    \n",
    "    #### END YOUR SOLUTION HERE ####"
   ]
  },
  {
   "cell_type": "code",
   "execution_count": null,
   "metadata": {
    "id": "jkMZ6Jq5-0eT"
   },
   "outputs": [],
   "source": []
  }
 ],
 "metadata": {
  "colab": {
   "collapsed_sections": [],
   "provenance": []
  },
  "kernelspec": {
   "display_name": "Python 3 (ipykernel)",
   "language": "python",
   "name": "python3"
  },
  "language_info": {
   "codemirror_mode": {
    "name": "ipython",
    "version": 3
   },
   "file_extension": ".py",
   "mimetype": "text/x-python",
   "name": "python",
   "nbconvert_exporter": "python",
   "pygments_lexer": "ipython3",
   "version": "3.9.16"
  }
 },
 "nbformat": 4,
 "nbformat_minor": 1
}
